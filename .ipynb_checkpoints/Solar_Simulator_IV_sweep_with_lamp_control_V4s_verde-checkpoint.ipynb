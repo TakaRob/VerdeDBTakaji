{
 "cells": [
  {
   "cell_type": "markdown",
   "id": "94f15934",
   "metadata": {},
   "source": [
    "#####  Solar Simulator IV sweep\n",
    "\n",
    "##### Versions:\n",
    "\n",
    "##### V2:       for both single sweep PV testing and multi-sweep degradation testing.\n",
    "##### V3:       Added: lamp intensity parameter; manual lamp control options;  MPP tracking.\n",
    "##### V4_Super: Semi-automated data upload to Dataverse."
   ]
  },
  {
   "cell_type": "markdown",
   "id": "6896f0af",
   "metadata": {},
   "source": [
    "#### Instructions and update notes:"
   ]
  },
  {
   "cell_type": "markdown",
   "id": "b017fc2c",
   "metadata": {
    "jp-MarkdownHeadingCollapsed": true
   },
   "source": [
    "\n",
    "\n",
    "To prepare, check the following:\n",
    "\n",
    "* Turn the Keithley 2401 meter on and plug the KUSB488 into the USB hub.\n",
    "* Also plug the Labjack unit into the USB hub and the FIO4 output of the Labjack to the trigger of the LSH-7320.\n",
    "* Plug the USB hub into your computer.  Make sure each USB channel is on and each device mounts.\n",
    "\n",
    "Some specifics of the code:\n",
    "\n",
    "* Use the OS commands below to navigate to the directory where you want to save the data.\n",
    "* Put this script and the K2401SS_4_1.py library in the current working directory (cwd).\n",
    "* If you are not sure what the cwd is, use ```os.getcwd()``` to find out. ```%pwd``` also returns the cwd.\n",
    "* The Operator name should be added manually in cell 3.a.1.\n",
    "* Run cell 3.a.1.  Change the sample name, cell number, etc. as needed.  Press the green 'Submit' button after each update.\n",
    "* Confirm your form selections in cell 3.a.2 before running 3.a.3. Cell 3.a.3 checks to make sure the sample is in the database.\n",
    "* Cell 3.b.1 contains additional parameters to set manually.  \n",
    "* Run code block 3.b.3 below. A \"\\data_mmddyy\" directory will be automatically created within the cwd.\n",
    "* Run code block 4.1: ```Keithley = K2401SS_4_1.K2401(dll_dir=dll_dir, GPIB_channel=GPIB_channel))``` \n",
    "    * If the Keithley unit is found it returns: ```KEITHLEY INSTRUMENTS INC.,MODEL 2401,1370363,A01 Aug 25 2011 12:57:43/A02  /S/K```\n",
    "* The main script is in cell 5.1.\n",
    "* The data is automatically saved in .csv files and a plot generated/saved after each sweep. \n",
    "* A time code (HHMMSS) is appended to the sample name to avoid overwiting the data from the same sample and cell.\n",
    "* A parameters file is created and added to for each \"\\data\" folder.\n",
    "\n",
    "Path and filename:\n",
    "* The path to the data folder is ```path = dir_path_local + \"_\" + today.strftime(\"%m%d%y\")```  \n",
    "* There are three kinds of files associated with each scan. Their names are built from the sample name, the cell number, the scan direction (\"F\" or \"R\"), and the time (HHMMSS).  The parameters file name has the date appended (mmddyy).\n",
    "* A special timeseries parameter file is created for timeseries scans, as described below.\n",
    "\n",
    "Sample and cell parameters:\n",
    "* ```samplename = \"Silicon\"``` Name of you sample.\n",
    "* ```cellnumber = \"1\"```       Cell number (in string format).\n",
    "* ```cellarea = 2.0*4.0```     Cell area or mask area in cm$^2$.\n",
    "\n",
    "Voltage sweep parameters:\n",
    "* ```startv = -0.1```         Sweep start voltage.\n",
    "* ```stopv = 0.65```          Sweep stop voltage.\n",
    "* ```stepv = 0.025```         Sweep step size.\n",
    "* ```sweep_rate = \"medium\"``` slow=about 1.3 steps/s, medium=5 steps/s,fast=12 steps/s. Note that ```stepv``` also affects the sweep rate in mV/s.\n",
    "* ```direction = \"both\"``` options are: (\"forward\", \"reverse\", and \"both\"). Selecting \"both\" results in four sweeps since dark and light sweeps are done in each direction. Selecting \"forward\" or \"reverse\" result in two sweeps, one dark and one light.\n",
    "\n",
    "Single scan option:\n",
    "* ```do_single_scan = True``` (True/False) Single scan takes priority. Set this option to ```False``` to run a timeseries or MPP.\n",
    "* Set the other parameters in code block 9 as needed.\n",
    "* Pro Tip: It may be more convenient to use \"Restart & Run All\" from the Kernel menu after updating the parameters instead of executing each cell individually.\n",
    "\n",
    "Multiple sweeps for degradation testing:\n",
    "\n",
    "* Set ```do_timeseries = True``` and ```do_single_scan = False```.\n",
    "* Set the other parameters in code block 9 as needed.\n",
    "* Use the companion script \"IV_sweep_Timeseries_Monitor_V1.ipynb\" to view a continually updated plot of the timeseries.\n",
    "    * Make sure the ```path``` and ```filename``` variables are set correctly. \n",
    "    * The filename should have the form \"timeseries_parameters_mmddyy\". It will be automatically created by this script.\n",
    "\n",
    "Timeseries loop options:\n",
    "* ```do_timeseries = False```         (True/False) Set this option to ```True``` to run a time series.\n",
    "* ```timeseries_interval = int(60)``` interval in seconds. (must be an integer)\n",
    "* ```timeseries_duration = 1.0```     duration in hours. (float)\n",
    "\n",
    "Saving and printing options:\n",
    "* ```savedata = 'yes'```       ('yes'/'no') Saves the data and the plot to a file.\n",
    "* ```saveparameters = 'yes'``` ('yes'/'no') Adds the parameters to the parameters file.\n",
    "* ```verbose = 1```            (1/0) Prints a lot of extra stuff and shows the plot.\n",
    "\n",
    "For Labjack code examples, consult the source code at https://github.com/labjack/LabJackPython/blob/master/src/u\n",
    "\n",
    "##### V2 last updated 1/1/2022 RLH.\n",
    "\n",
    "##### V3 New capabilities\n",
    "\n",
    "Lamp intensity parameters:\n",
    "* ```I_ph = 1.00```            (normally 0.80-1.00) Correct for lamp intensity and spectral mismatch factors. \n",
    "\n",
    "Lamp control:\n",
    "* ```labjack = True```       (True/False) Set to True to control the lamp with the LabJack U3 device.\n",
    "* ```do_dark_sweep = True``` (True/False) Set to True to enable dark sweeps. If False they will be skipped and the lamp will always be on.\n",
    "* ```burnintime = 10```      (Time in sec.) Burn in time in seconds with the lamp on before the sweep starts. \n",
    " \n",
    "Maximum power point tracking:\n",
    "* ```mpp_tracking_mode = True```   (True/False) Set to True to set the voltage to mpp_V after each sweep.\n",
    "* ```mpp_default  = \"0.9\"```       (Must be a string)  Intial guess for the mpp voltage. [Volts] \n",
    "* Make sure to set the ```do_single_scan``` parameter to ```False``` for MPP tracking mode.\n",
    "* Also make sure that ```do_timeseries``` is set to ```True```.\n",
    "* ```four_wire = False```     (True/False) Set this option to ```True``` for 4-wire mode.\n",
    "\n",
    "The latest version of the K2401SS package is called ```K2401SS_4_1```, which is version 4.1.\n",
    "\n",
    "##### V3 last updated on 12/30/2023 RLH.\n",
    "\n",
    "##### V4_Super New capabilities.\n",
    "* View a list of recent samples in the sample database and select the sample from a drop-down list.\n",
    "* Save scan results to the J-V_Test_Data database.\n",
    "\n",
    "Database and data folder parameters:\n",
    "* ```dir_path_local = os.path.normpath(os.path.join(jupyter_notebook_path, \"../Seid\"))```  Sets the data folder name and the default Operator name.\n",
    "* ```last_num= 5```                                                                        The number of Sample records to view, most recent first."
   ]
  },
  {
   "cell_type": "markdown",
   "id": "d2e5fbd7",
   "metadata": {},
   "source": [
    "##### 1. Import the required packages and modules."
   ]
  },
  {
   "cell_type": "code",
   "execution_count": 219,
   "id": "43458011",
   "metadata": {},
   "outputs": [],
   "source": [
    "### 1.1 ###|\n",
    "import os\n",
    "from datetime import date, datetime\n",
    "import time\n",
    "import numpy as np\n",
    "from scipy.interpolate import interp1d\n",
    "import pandas as pd\n",
    "import matplotlib.pyplot as plt\n",
    "import sys\n",
    "from IPython.display import display\n",
    "from tqdm import tqdm\n",
    "import subprocess\n",
    "import re\n",
    "import sys\n",
    "import ipywidgets as widgets\n",
    "import json\n",
    "import warnings\n",
    "warnings.filterwarnings('ignore')             # Supresses warnings for code I don't want to change.\n",
    "import K2401SS_4_1                            # K2401 Solar Simulator module 2-wire and 4-wire with MPP.\n",
    "from db_form import parameters_form           # Yoni's form code.\n",
    "from db_dataverse import SampleDataverseTable # Dataverse code based on scripts by Felix.\n",
    "from db_dataverse import JVScanDataverseTable # "
   ]
  },
  {
   "cell_type": "markdown",
   "id": "c32747f1",
   "metadata": {},
   "source": [
    "##### 2. View a list of samples in the Sample Database."
   ]
  },
  {
   "cell_type": "code",
   "execution_count": 220,
   "id": "0981098a",
   "metadata": {},
   "outputs": [
    {
     "data": {
      "text/plain": [
       "'C:\\\\Users\\\\LabUser\\\\OneDrive - Verde Technologies\\\\Documents\\\\data2\\\\K2401SSDB'"
      ]
     },
     "execution_count": 220,
     "metadata": {},
     "output_type": "execute_result"
    }
   ],
   "source": [
    "### 2.1 ###\n",
    "# Everything should be relative to jupyter_notebook_path.  \n",
    "# There will be other folders created,such as ../{operator}_{date}\n",
    "jupyter_notebook_path = os.getcwd()\n",
    "%pwd"
   ]
  },
  {
   "cell_type": "code",
   "execution_count": 221,
   "id": "339eaf39",
   "metadata": {
    "scrolled": false
   },
   "outputs": [
    {
     "name": "stdout",
     "output_type": "stream",
     "text": [
      "['04112025_FAPI_SA_SS_IZO_Cu(20nm)_C2', '04112025_FAPI_SA_SS_IZO_Cu(20nm)_C1', '040325_FAPI_SA_20%_Nb_doped_SnOx_Cu_C4', '040325_FAPI_SA_20%_Nb_doped_SnOx_Cu_C3', '040325_FAPI_SA_SnOx_Cu_C2', '040325_FAPI_SA_SnOx_Cu_C1', '040325_PC62R04_AB302_Dev9', '040325_PC62R04_AB302_Dev3', '040325_PC62R04_AB313_Dev8', '040325_PC62R04_AB313_Dev7', '040325_PC62R04_AB341_Dev4', '040325_PC62R04_AB341_Dev6', '040325_PC62R04_PNY1890714_Dev2', '04032025_PanacolY1890714_DEV1', '040225_FTO_Spider_encapsulation_RFP_dev1', '033125_FTO_Spider_encapsulation_RFP_dev2', '033125_FTO_Spider_encapsulation_RFP_dev1', '03272025_FAPI_SA_Sofab_C2', '03272025_FAPI_SA_Sofab_C1', 'dev1', '031725_FAPI_SA_Control_20nm_Cu_C9', '031725_FAPI_SA_SS_Plates_20nm_Cu_C8', '031725_FAPI_SA_SS_Plates_20nm_Cu_C7', '031725_FAPI_SA_SS_Plates_20nm_Cu_C6', '031725_FAPI_SA_SS_Plates_20nm_Cu_C5', '031725_FAPI_SA_SS_Plates_20nm_Cu_C4', '031725_FAPI_SA_SS_Plates_20nm_Cu_C3', '031725_FAPI_SA_SS_Plates_20nm_Cu_C2', '031725_FAPI_SA_SS_Plates_20nm_Cu_C1', '02112025_FAPI_SA_NiOx_MeO-4PACz + DPPP_C2', '02112025_FAPI_SA_NiOx_MeO-4PACz + DPPP_C1', '022525_FAPI_SA_FIRSTBATCH_DEV2', '022525_FAPI_SA_FIRSTBATCH_DEV1', '022125_FAPI_SA_First_batch_C1', '022125_FAPI_SA_First batch_C2', '01272025_FAPI_SA_Stability comparison_MeO-4PACz_C4', '01272025_FAPI_SA_Stability comparison_MeO-4PACz_C3', '01272025_FAPI_SA_Stability comparison_MeO-4PACz_C2', '01272025_FAPI_SA_Stability comparison_MeO-4PACz_C1', '01272025_FAPI_SA_Stability comparison_NiOx_C4', '01272025_FAPI_SA_Stability comparison_NiOx_C3', '01272025_FAPI_SA_Stability comparison_NiOx_C2', '01272025_FAPI_SA_Stability comparison_NiOx_C1', '012225_FAPI_SA_Wide_Coater_Cu_C2', '012225_FAPI_SA_Wide_Coater_Cu_C1', '01122025_FAPI_1h aged solution 2 _C8', '01122025_FAPI_1h aged solution 2 _C7', '01122025_FAPI_1h aged solution _C6', '01122025_FAPI_1h aged solution _C5', '01122025_FAPI_Fresh solution 2_C4', '01122025_FAPI_Fresh solution 2_C3', '01122025_FAPI_Fresh solution_C2', '01122025_FAPI_Fresh solution_C1', '011025_FAPI_SA_SS_Plates_C4', '011025_FAPI_SA_SS_Plates_C3', '011025_FAPI_SA_SS_SnOX_C2', '011025_FAPI_SA_SS_SnOX_C1', '030124_FAPI_SA_Cu_cell E', '122024_FAPI_SA_SnO2_Panacol-Hybrid_C6', '122024_FAPI_SA_SnO2_Panacol-Hybrid_C5', '122024_FAPI_SA_SnO2_Panacol-Acrylate_C4', '122024_FAPI_SA_SnO2_Panacol-Acrylate_C3', '122024_FAPI_SA_SnO2_Panacol-Epoxy_C2', '122024_FAPI_SA_SnO2_Panacol-Epoxy_C1', '122024_FAPI_SA_SnO2_C4', '122024_FAPI_SA_SnO2_C3', '122024_FAPI_SA_SnO2_C2', '122024_FAPI_SA_SnO2_C1', '122024_FAPI_SA_BCP_C4', '122024_FAPI_SA_BCP_C3', '122024_FAPI_SA_BCP_C2', '122024_FAPI_SA_BCP_C1', '120524_FAPI_SA_ITO_NPs_Cu(20nm)_C3', '120524_FAPI_SA_SS_NPs_Cu(20nm)_C2', '120524_FAPI_SA_SS_NPs_Cu(20nm)_C1', '261124_FAPI_SA_ITO_C3', '261124_FAPI_SA_Cu10nm_ITO_C1', '112524_FAPI_SA_ITO_NPs_4D_C60_BCP_Cu(20nm)_C2', '112524_FAPI_SA_ITO_NPs_4D_C60_BCP_Cu(20nm)_C1', '112224_FAPI_SA_SS_ITO_Cu(20nm)_C3']\n"
     ]
    },
    {
     "data": {
      "text/html": [
       "<div>\n",
       "<style scoped>\n",
       "    .dataframe tbody tr th:only-of-type {\n",
       "        vertical-align: middle;\n",
       "    }\n",
       "\n",
       "    .dataframe tbody tr th {\n",
       "        vertical-align: top;\n",
       "    }\n",
       "\n",
       "    .dataframe thead th {\n",
       "        text-align: right;\n",
       "    }\n",
       "</style>\n",
       "<table border=\"1\" class=\"dataframe\">\n",
       "  <thead>\n",
       "    <tr style=\"text-align: right;\">\n",
       "      <th></th>\n",
       "      <th>Sample ID</th>\n",
       "      <th>Operator</th>\n",
       "      <th>Perovskite Composition</th>\n",
       "      <th>HTL Material</th>\n",
       "      <th>ETL Material</th>\n",
       "      <th>Top Capping Material</th>\n",
       "      <th>Bottom Capping Material</th>\n",
       "      <th>Bulk Passivation Materials</th>\n",
       "      <th>Is Encapsulated</th>\n",
       "    </tr>\n",
       "  </thead>\n",
       "  <tbody>\n",
       "    <tr>\n",
       "      <th>0</th>\n",
       "      <td>04112025_FAPI_SA_SS_IZO_Cu(20nm)_C2</td>\n",
       "      <td>Pramod</td>\n",
       "      <td>CsFAPI</td>\n",
       "      <td>NiOx</td>\n",
       "      <td>C60/BCP</td>\n",
       "      <td>3MTPAI</td>\n",
       "      <td>DPPP</td>\n",
       "      <td>[\"FACl\"]</td>\n",
       "      <td>True</td>\n",
       "    </tr>\n",
       "    <tr>\n",
       "      <th>1</th>\n",
       "      <td>04112025_FAPI_SA_SS_IZO_Cu(20nm)_C1</td>\n",
       "      <td>Pramod</td>\n",
       "      <td>CsFAPI</td>\n",
       "      <td>NiOx</td>\n",
       "      <td>C60/BCP</td>\n",
       "      <td>3MTPAI</td>\n",
       "      <td>DPPP</td>\n",
       "      <td>[\"FACl\"]</td>\n",
       "      <td>True</td>\n",
       "    </tr>\n",
       "    <tr>\n",
       "      <th>2</th>\n",
       "      <td>040325_FAPI_SA_20%_Nb_doped_SnOx_Cu_C4</td>\n",
       "      <td>Pramod</td>\n",
       "      <td>CsFAPI</td>\n",
       "      <td>MeO-4PAcZ (1.0 mM)</td>\n",
       "      <td>C60/SnOx_Nd</td>\n",
       "      <td>3MTPAI</td>\n",
       "      <td>PEAI</td>\n",
       "      <td>[\"FACl\"]</td>\n",
       "      <td>True</td>\n",
       "    </tr>\n",
       "    <tr>\n",
       "      <th>3</th>\n",
       "      <td>040325_FAPI_SA_20%_Nb_doped_SnOx_Cu_C3</td>\n",
       "      <td>Pramod</td>\n",
       "      <td>CsFAPI</td>\n",
       "      <td>MeO-4PAcZ (1.0 mM)</td>\n",
       "      <td>C60/SnOx_Nd</td>\n",
       "      <td>3MTPAI</td>\n",
       "      <td>PEAI</td>\n",
       "      <td>[\"FACl\"]</td>\n",
       "      <td>True</td>\n",
       "    </tr>\n",
       "    <tr>\n",
       "      <th>4</th>\n",
       "      <td>040325_FAPI_SA_SnOx_Cu_C2</td>\n",
       "      <td>Pramod</td>\n",
       "      <td>CsFAPI</td>\n",
       "      <td>MeO-4PAcZ (1.0 mM)</td>\n",
       "      <td>C60/SnOx</td>\n",
       "      <td>3MTPAI</td>\n",
       "      <td>PEAI</td>\n",
       "      <td>[\"FACl\"]</td>\n",
       "      <td>True</td>\n",
       "    </tr>\n",
       "    <tr>\n",
       "      <th>...</th>\n",
       "      <td>...</td>\n",
       "      <td>...</td>\n",
       "      <td>...</td>\n",
       "      <td>...</td>\n",
       "      <td>...</td>\n",
       "      <td>...</td>\n",
       "      <td>...</td>\n",
       "      <td>...</td>\n",
       "      <td>...</td>\n",
       "    </tr>\n",
       "    <tr>\n",
       "      <th>75</th>\n",
       "      <td>261124_FAPI_SA_ITO_C3</td>\n",
       "      <td>Seid</td>\n",
       "      <td>CsFAPI</td>\n",
       "      <td>MeO-4PAcZ (1.0 mM)</td>\n",
       "      <td>C60/SnOx</td>\n",
       "      <td>3MTPAI</td>\n",
       "      <td>PEAI</td>\n",
       "      <td>[\"FACl\"]</td>\n",
       "      <td>True</td>\n",
       "    </tr>\n",
       "    <tr>\n",
       "      <th>76</th>\n",
       "      <td>261124_FAPI_SA_Cu10nm_ITO_C1</td>\n",
       "      <td>Seid</td>\n",
       "      <td>CsFAPI</td>\n",
       "      <td>MeO-4PAcZ (1.0 mM)</td>\n",
       "      <td>C60/SnOx</td>\n",
       "      <td>3MTPAI</td>\n",
       "      <td>PEAI</td>\n",
       "      <td>[\"FACl\"]</td>\n",
       "      <td>True</td>\n",
       "    </tr>\n",
       "    <tr>\n",
       "      <th>77</th>\n",
       "      <td>112524_FAPI_SA_ITO_NPs_4D_C60_BCP_Cu(20nm)_C2</td>\n",
       "      <td>Pramod</td>\n",
       "      <td>CsFAPI</td>\n",
       "      <td>NiOx</td>\n",
       "      <td>C60/BCP</td>\n",
       "      <td>3MTPAI</td>\n",
       "      <td>DPPP</td>\n",
       "      <td>[\"FACl\"]</td>\n",
       "      <td>True</td>\n",
       "    </tr>\n",
       "    <tr>\n",
       "      <th>78</th>\n",
       "      <td>112524_FAPI_SA_ITO_NPs_4D_C60_BCP_Cu(20nm)_C1</td>\n",
       "      <td>Pramod</td>\n",
       "      <td>CsFAPI</td>\n",
       "      <td>NiOx</td>\n",
       "      <td>C60/BCP</td>\n",
       "      <td>3MTPAI</td>\n",
       "      <td>DPPP</td>\n",
       "      <td>[\"FACl\"]</td>\n",
       "      <td>True</td>\n",
       "    </tr>\n",
       "    <tr>\n",
       "      <th>79</th>\n",
       "      <td>112224_FAPI_SA_SS_ITO_Cu(20nm)_C3</td>\n",
       "      <td>Pramod</td>\n",
       "      <td>CsFAPI</td>\n",
       "      <td>NiOx</td>\n",
       "      <td>C60/BCP</td>\n",
       "      <td>3MTPAI</td>\n",
       "      <td>DPPP</td>\n",
       "      <td>[\"FACl\"]</td>\n",
       "      <td>True</td>\n",
       "    </tr>\n",
       "  </tbody>\n",
       "</table>\n",
       "<p>80 rows × 9 columns</p>\n",
       "</div>"
      ],
      "text/plain": [
       "                                        Sample ID Operator  \\\n",
       "0             04112025_FAPI_SA_SS_IZO_Cu(20nm)_C2   Pramod   \n",
       "1             04112025_FAPI_SA_SS_IZO_Cu(20nm)_C1   Pramod   \n",
       "2          040325_FAPI_SA_20%_Nb_doped_SnOx_Cu_C4   Pramod   \n",
       "3          040325_FAPI_SA_20%_Nb_doped_SnOx_Cu_C3   Pramod   \n",
       "4                       040325_FAPI_SA_SnOx_Cu_C2   Pramod   \n",
       "..                                            ...      ...   \n",
       "75                          261124_FAPI_SA_ITO_C3     Seid   \n",
       "76                   261124_FAPI_SA_Cu10nm_ITO_C1     Seid   \n",
       "77  112524_FAPI_SA_ITO_NPs_4D_C60_BCP_Cu(20nm)_C2   Pramod   \n",
       "78  112524_FAPI_SA_ITO_NPs_4D_C60_BCP_Cu(20nm)_C1   Pramod   \n",
       "79              112224_FAPI_SA_SS_ITO_Cu(20nm)_C3   Pramod   \n",
       "\n",
       "   Perovskite Composition        HTL Material ETL Material  \\\n",
       "0                  CsFAPI                NiOx      C60/BCP   \n",
       "1                  CsFAPI                NiOx      C60/BCP   \n",
       "2                  CsFAPI  MeO-4PAcZ (1.0 mM)  C60/SnOx_Nd   \n",
       "3                  CsFAPI  MeO-4PAcZ (1.0 mM)  C60/SnOx_Nd   \n",
       "4                  CsFAPI  MeO-4PAcZ (1.0 mM)     C60/SnOx   \n",
       "..                    ...                 ...          ...   \n",
       "75                 CsFAPI  MeO-4PAcZ (1.0 mM)     C60/SnOx   \n",
       "76                 CsFAPI  MeO-4PAcZ (1.0 mM)     C60/SnOx   \n",
       "77                 CsFAPI                NiOx      C60/BCP   \n",
       "78                 CsFAPI                NiOx      C60/BCP   \n",
       "79                 CsFAPI                NiOx      C60/BCP   \n",
       "\n",
       "   Top Capping Material Bottom Capping Material Bulk Passivation Materials  \\\n",
       "0                3MTPAI                    DPPP                   [\"FACl\"]   \n",
       "1                3MTPAI                    DPPP                   [\"FACl\"]   \n",
       "2                3MTPAI                    PEAI                   [\"FACl\"]   \n",
       "3                3MTPAI                    PEAI                   [\"FACl\"]   \n",
       "4                3MTPAI                    PEAI                   [\"FACl\"]   \n",
       "..                  ...                     ...                        ...   \n",
       "75               3MTPAI                    PEAI                   [\"FACl\"]   \n",
       "76               3MTPAI                    PEAI                   [\"FACl\"]   \n",
       "77               3MTPAI                    DPPP                   [\"FACl\"]   \n",
       "78               3MTPAI                    DPPP                   [\"FACl\"]   \n",
       "79               3MTPAI                    DPPP                   [\"FACl\"]   \n",
       "\n",
       "   Is Encapsulated  \n",
       "0             True  \n",
       "1             True  \n",
       "2             True  \n",
       "3             True  \n",
       "4             True  \n",
       "..             ...  \n",
       "75            True  \n",
       "76            True  \n",
       "77            True  \n",
       "78            True  \n",
       "79            True  \n",
       "\n",
       "[80 rows x 9 columns]"
      ]
     },
     "execution_count": 221,
     "metadata": {},
     "output_type": "execute_result"
    }
   ],
   "source": [
    "### 2.2 ###\n",
    "# Database parameters.\n",
    "\n",
    "# It may be necessary to use the 'Connect' command in Powershell to change the user before running this cell.\n",
    "#crm_url =  \"https://orgc25b23b3.api.crm.dynamics.com/\"        # Randall Headrick's Environment at UVM.\n",
    "crm_url = \"https://perovskitedevelop.api.crm.dynamics.com/\"    # Perovskite Data Developer Environment at VerdeTechnologies. \n",
    "\n",
    "#sample_table_logical_name =  \"cr69a_sampledatav2s\"\n",
    "sample_table_logical_name =  \"crf3d_sample_datas\"               # Perovskite Data Developer, Dataverse table.\n",
    "\n",
    "#JV_scan_table_logical_name = \"cr69a_jv_test_data_v3s\"\n",
    "JV_scan_table_logical_name = \"crf3d_jv_test_datas\"              # Perovskite Data Developer, Dataverse table.\n",
    "\n",
    "# This is not a complete list, only a few that might be helpful to identify the sample.\n",
    "Sample_table_logical_names = {\n",
    "    \"Sample ID\": 'crf3d_sampleid', \n",
    "    \"Operator\": 'crf3d_operatorname', \n",
    "    \"Perovskite Composition\": 'crf3d_perovskitecomposition', \n",
    "    \"HTL Material\": 'crf3d_htlmaterial', \n",
    "    \"ETL Material\": 'crf3d_etlmaterial',\n",
    "    \"Top Capping Material\": 'crf3d_topcappingpassivationmaterial', \n",
    "    \"Bottom Capping Material\": 'crf3d_bottomcappingpassivationmaterial', \n",
    "    \"Bulk Passivation Materials\": 'new_bulkpassivationmaterial', \n",
    "    \"Is Encapsulated\": 'crf3d_isencapsulated'\n",
    "}\n",
    " \n",
    "# View a list of samples in the database.\n",
    "last_num= 80  ################### The number of Sample records to view, most recent first.############\n",
    "sample_table = SampleDataverseTable(crm_url, sample_table_logical_name, col_logical_names=Sample_table_logical_names)\n",
    "sample_ids, recent_values, result = sample_table.recent_entries(last_num)\n",
    "print(sample_ids)\n",
    "recent_values\n",
    "\n",
    "# Columnn logical names. # 23 parameters in the correct order.  They will be uploaded to the J-V_test_data_V3 table.\n",
    "# For J-V_Scan_Data_V3\n",
    "# col_logical_names = {\n",
    "#     'sample_id': 'cr69a_sample_id',\n",
    "#     'elapsed_time': 'cr69a_elapsed_time_sec',\n",
    "#     'base_time': 'cr69a_base_time_sec',  # New base_time value.\n",
    "#     'test_id': 'cr69a_test_id',\n",
    "#     'i_ph_suns': 'cr69a_iph_suns',\n",
    "#     'voc_v': 'cr69a_voc_v',\n",
    "#     'mpp_v': 'cr69a_mpp_v',\n",
    "#     'jsc_ma': 'cr69a_jsc_macm2',\n",
    "#     'rsh': 'cr69a_rsh',\n",
    "#     'rser': 'cr69a_rser',\n",
    "#     'ff': 'cr69a_ff_pct',\n",
    "#     'pce': 'cr69a_pce_pct',\n",
    "#     'operator': 'cr69a_operator_name',\n",
    "#     'scan_type': 'cr69a_scan_type',\n",
    "#     'lab_location': 'cr69a_location',\n",
    "#     'cell_number': 'cr69a_cell_number',\n",
    "#     'module': 'cr69a_module',\n",
    "#     'masked': 'cr69a_masked',\n",
    "#     'mask_area': 'cr69a_mask_area_cm2',\n",
    "#     'temp_c': 'cr69a_temperature_c',  # New.\n",
    "#     'hum_pct': 'cr69a_humidity_pct', # New.\n",
    "#     'four_wire_mode': 'cr69a_four_wire_mode', # New.\n",
    "#     'scan_data_path': 'cr69a_scan_path' # New.\n",
    "# }\n",
    "# image_column_name = 'cr69a_scan_image'  # Optional column.\n",
    "\n",
    "# For J-V_Scan_Data on  Perovskite Data Developer, Verde Technologies.\n",
    "col_logical_names = {\n",
    "    'sample_id': 'crf3d_sample_id',\n",
    "    'elapsed_time': 'crf3d_elapsed_time_sec',\n",
    "    'base_time': 'crf3d_base_time_sec',  # New base_time value.\n",
    "    'test_id': 'crf3d_test_id',\n",
    "    'i_ph_suns': 'crf3d_iph_suns',\n",
    "    'voc_v': 'crf3d_voc_v',\n",
    "    'mpp_v': 'crf3d_mpp_v',\n",
    "    'jsc_ma': 'crf3d_jsc_macm2',\n",
    "    'rsh': 'crf3d_rsh',\n",
    "    'rser': 'crf3d_rser',\n",
    "    'ff': 'crf3d_ff_pct',\n",
    "    'pce': 'crf3d_pce_pct',\n",
    "    'operator': 'crf3d_operator_name',\n",
    "    'scan_type': 'crf3d_scan_type',\n",
    "    'lab_location': 'crf3d_location',\n",
    "    'cell_number': 'crf3d_cell_number',\n",
    "    'module': 'crf3d_module',\n",
    "    'masked': 'crf3d_masked',\n",
    "    'mask_area': 'crf3d_mask_area_cm2',\n",
    "    'temp_c': 'crf3d_temperature_c',  # New.\n",
    "    'hum_pct': 'crf3d_humidity_pct', # New.\n",
    "    'four_wire_mode': 'crf3d_four_wire_mode', # New.\n",
    "    'scan_data_path': 'crf3d_scan_path' # New.\n",
    "}\n",
    "image_column_name = 'new_jv_scan_plot'  # Optional column.\n",
    "\n",
    "# Set up the J-V_Test_Data table.\n",
    "jv_test_table = JVScanDataverseTable(crm_url=crm_url, table_name=JV_scan_table_logical_name)\n",
    "\n",
    "recent_values"
   ]
  },
  {
   "cell_type": "code",
   "execution_count": 222,
   "id": "510011f4",
   "metadata": {},
   "outputs": [
    {
     "data": {
      "text/plain": [
       "CompletedProcess(args='pwsh -ExecutionPolicy Bypass -File \"C:\\\\Users\\\\LabUser\\\\OneDrive - Verde Technologies\\\\Documents\\\\data2\\\\K2401SSDB/scripts/recent-entries_V2.ps1\" \"crf3d_sample_datas\"                \"?$select=crf3d_sampleid,crf3d_operatorname,crf3d_perovskitecomposition,crf3d_htlmaterial,crf3d_etlmaterial,crf3d_topcappingpassivationmaterial,crf3d_bottomcappingpassivationmaterial,new_bulkpassivationmaterial,crf3d_isencapsulated&\"$orderby\"=createdon desc\" 80 \"https://perovskitedevelop.api.crm.dynamics.com/\" -cols \"crf3d_sampleid,crf3d_operatorname,crf3d_perovskitecomposition,crf3d_htlmaterial,crf3d_etlmaterial,crf3d_topcappingpassivationmaterial,crf3d_bottomcappingpassivationmaterial,new_bulkpassivationmaterial,crf3d_isencapsulated\"', returncode=0, stdout='04112025_FAPI_SA_SS_IZO_Cu(20nm)_C2, Pramod, CsFAPI, NiOx, C60/BCP, 3MTPAI, DPPP, [\"FACl\"], True\\n04112025_FAPI_SA_SS_IZO_Cu(20nm)_C1, Pramod, CsFAPI, NiOx, C60/BCP, 3MTPAI, DPPP, [\"FACl\"], True\\n040325_FAPI_SA_20%_Nb_doped_SnOx_Cu_C4, Pramod, CsFAPI, MeO-4PAcZ (1.0 mM), C60/SnOx_Nd, 3MTPAI, PEAI, [\"FACl\"], True\\n040325_FAPI_SA_20%_Nb_doped_SnOx_Cu_C3, Pramod, CsFAPI, MeO-4PAcZ (1.0 mM), C60/SnOx_Nd, 3MTPAI, PEAI, [\"FACl\"], True\\n040325_FAPI_SA_SnOx_Cu_C2, Pramod, CsFAPI, MeO-4PAcZ (1.0 mM), C60/SnOx, 3MTPAI, PEAI, [\"FACl\"], True\\n040325_FAPI_SA_SnOx_Cu_C1, Pramod, CsFAPI, MeO-4PAcZ (1.0 mM), C60/SnOx, 3MTPAI, PEAI, [\"FACl\"], True\\n040325_PC62R04_AB302_Dev9, Rosinda, CsFAPI, MeO-4PAcZ (1.0 mM), C60/BCP, 3MTPAI, PEAI, [\"FACl\"], True\\n040325_PC62R04_AB302_Dev3, Rosinda, CsFAPI, MeO-4PAcZ (1.0 mM), C60/BCP, 3MTPAI, PEAI, [\"FACl\"], True\\n040325_PC62R04_AB313_Dev8, Rosinda, CsFAPI, MeO-4PAcZ (1.0 mM), C60/BCP, 3MTPAI, PEAI, [\"FACl\"], True\\n040325_PC62R04_AB313_Dev7, Rosinda, CsFAPI, MeO-4PAcZ (1.0 mM), C60/BCP, 3MTPAI, PEAI, [\"FACl\"], True\\n040325_PC62R04_AB341_Dev4, Rosinda, CsFAPI, MeO-4PAcZ (1.0 mM), C60/BCP, 3MTPAI, PEAI, [\"FACl\"], True\\n040325_PC62R04_AB341_Dev6, Rosinda, CsFAPI, MeO-4PAcZ (1.0 mM), C60/BCP, 3MTPAI, PEAI, [\"FACl\"], True\\n040325_PC62R04_PNY1890714_Dev2, Rosinda, CsFAPI, MeO-4PAcZ (1.0 mM), C60/BCP, 3MTPAI, PEAI, [\"FACl\"], True\\n04032025_PanacolY1890714_DEV1, Rosinda, CsFAPI, MeO-4PAcZ (1.0 mM), C60/BCP, 3MTPAI, PEAI, [\"FACl\"], True\\n040225_FTO_Spider_encapsulation_RFP_dev1, Rosinda, CsFAPI, NiOx/MeO-4PACz, C60/SnOx, 3MTPAI, PEAI, [\"FACl\"], True\\n033125_FTO_Spider_encapsulation_RFP_dev2, Rosinda, CsFAPI, NiOx/MeO-4PACz, C60/SnOx, 3MTPAI, PEAI, [\"FACl\"], True\\n033125_FTO_Spider_encapsulation_RFP_dev1, Rosinda, CsFAPI, NiOx/MeO-4PACz, C60/SnOx, 3MTPAI, PEAI, [\"FACl\"], True\\n03272025_FAPI_SA_Sofab_C2, Seid, CsFAPI, MeO-4PAcZ (1.0 mM), Sofab SnO2, 3MTPAI, PEAI, [\"FACl\"], True\\n03272025_FAPI_SA_Sofab_C1, Seid, CsFAPI, MeO-4PAcZ (1.0 mM), Sofab SnO2, 3MTPAI, PEAI, [\"FACl\"], True\\ndev1, Vivek, CsFAPI, NiOx, C60/BCP, 3MTPAI, DPPP, [\"FACl\"], True\\n031725_FAPI_SA_Control_20nm_Cu_C9, Pramod, CsFAPI, MeO-4PAcZ (1.0 mM), C60/BCP, 3MTPAI, PEAI, [\"FACl\"], True\\n031725_FAPI_SA_SS_Plates_20nm_Cu_C8, Pramod, CsFAPI, NiOx, C60/BCP, 3MTPAI, PEAI, [\"FACl\"], True\\n031725_FAPI_SA_SS_Plates_20nm_Cu_C7, Pramod, CsFAPI, NiOx, C60/BCP, 3MTPAI, PEAI, [\"FACl\"], True\\n031725_FAPI_SA_SS_Plates_20nm_Cu_C6, Pramod, CsFAPI, NiOx, C60/BCP, 3MTPAI, PEAI, [\"FACl\"], True\\n031725_FAPI_SA_SS_Plates_20nm_Cu_C5, Pramod, CsFAPI, NiOx, C60/BCP, 3MTPAI, PEAI, [\"FACl\"], True\\n031725_FAPI_SA_SS_Plates_20nm_Cu_C4, Pramod, CsFAPI, NiOx, C60/BCP, 3MTPAI, PEAI, [\"FACl\"], True\\n031725_FAPI_SA_SS_Plates_20nm_Cu_C3, Pramod, CsFAPI, NiOx, C60/BCP, 3MTPAI, PEAI, [\"FACl\"], True\\n031725_FAPI_SA_SS_Plates_20nm_Cu_C2, Pramod, CsFAPI, NiOx, C60/BCP, 3MTPAI, PEAI, [\"FACl\"], True\\n031725_FAPI_SA_SS_Plates_20nm_Cu_C1, Pramod, CsFAPI, NiOx, C60/BCP, 3MTPAI, PEAI, [\"FACl\"], True\\n02112025_FAPI_SA_NiOx_MeO-4PACz + DPPP_C2, Seid, CsFAPI, NiOx, C60/SnOx, 3MTPAI, DPPP, [\"FACl\"], True\\n02112025_FAPI_SA_NiOx_MeO-4PACz + DPPP_C1, Seid, CsFAPI, NiOx, C60/SnOx, 3MTPAI, DPPP, [\"FACl\"], True\\n022525_FAPI_SA_FIRSTBATCH_DEV2, Rosinda, CsFAPI, MeO-4PAcZ (1.0 mM), C60/BCP, 3MTPAI, PEAI, [\"FACl\"], True\\n022525_FAPI_SA_FIRSTBATCH_DEV1, Rosinda, CsFAPI, MeO-4PAcZ (1.0 mM), C60/BCP, 3MTPAI, PEAI, [\"FACl\"], True\\n022125_FAPI_SA_First_batch_C1, Rosinda, CsFAPI, MeO-4PAcZ (1.0 mM), C60/BCP, 3MTPAI, PEAI, [\"FACl\"], True\\n022125_FAPI_SA_First batch_C2, Rosinda , CsFAPI, MeO-4PAcZ (1.0 mM), C60/BCP, 3MTPAI, PEAI, [\"FACl\"], True\\n01272025_FAPI_SA_Stability comparison_MeO-4PACz_C4, Seid, CsFAPI, MeO-4PAcZ (1.0 mM), C60/SnOx, 3MTPAI, PEAI, [\"FACl\"], True\\n01272025_FAPI_SA_Stability comparison_MeO-4PACz_C3, Seid, CsFAPI, MeO-4PAcZ (1.0 mM), C60/SnOx, 3MTPAI, PEAI, [\"FACl\"], True\\n01272025_FAPI_SA_Stability comparison_MeO-4PACz_C2, Seid, CsFAPI, MeO-4PAcZ (1.0 mM), C60/SnOx, 3MTPAI, PEAI, [\"FACl\"], True\\n01272025_FAPI_SA_Stability comparison_MeO-4PACz_C1, Seid, CsFAPI, MeO-4PAcZ (1.0 mM), C60/SnOx, 3MTPAI, PEAI, [\"FACl\"], True\\n01272025_FAPI_SA_Stability comparison_NiOx_C4, Seid, CsFAPI, NiOx, C60/SnOx, 3MTPAI, MeO-4PACz + DPPP, [\"FACl\"], True\\n01272025_FAPI_SA_Stability comparison_NiOx_C3, Seid, CsFAPI, NiOx, C60/SnOx, 3MTPAI, MeO-4PACz + DPPP, [\"FACl\"], True\\n01272025_FAPI_SA_Stability comparison_NiOx_C2, Seid, CsFAPI, NiOx, C60/SnOx, 3MTPAI, MeO-4PACz + DPPP, [\"FACl\"], True\\n01272025_FAPI_SA_Stability comparison_NiOx_C1, Seid, CsFAPI, NiOx, C60/SnOx, 3MTPAI, MeO-4PACz+DPPP, [\"FACl\"], True\\n012225_FAPI_SA_Wide_Coater_Cu_C2, Pramod, CsFAPI, MeO-4PAcZ (1.0 mM), C60/SnOx, 3MTPAI, PEAI, [\"FACl\"], True\\n012225_FAPI_SA_Wide_Coater_Cu_C1, Pramod, CsFAPI, MeO-4PAcZ (1.0 mM), C60/SnOx, 3MTPAI, PEAI, [\"FACl\"], True\\n01122025_FAPI_1h aged solution 2 _C8, Seid, CsFAPI, MeO-4PAcZ (1.0 mM), C60/SnOx, 3MTPAI, PEAI, [\"FACl\"], True\\n01122025_FAPI_1h aged solution 2 _C7, Seid, CsFAPI, MeO-4PAcZ (1.0 mM), C60/SnOx, 3MTPAI, PEAI, [\"FACl\"], True\\n01122025_FAPI_1h aged solution _C6, Seid, CsFAPI, MeO-4PAcZ (1.0 mM), C60/SnOx, 3MTPAI, PEAI, [\"FACl\"], True\\n01122025_FAPI_1h aged solution _C5, Seid, CsFAPI, MeO-4PAcZ (1.0 mM), C60/SnOx, 3MTPAI, PEAI, [\"FACl\"], True\\n01122025_FAPI_Fresh solution 2_C4, Seid, CsFAPI, MeO-4PAcZ (1.0 mM), C60/SnOx, 3MTPAI, PEAI, [\"FACl\"], True\\n01122025_FAPI_Fresh solution 2_C3, Seid, CsFAPI, MeO-4PAcZ (1.0 mM), C60/SnOx, 3MTPAI, PEAI, [\"FACl\"], True\\n01122025_FAPI_Fresh solution_C2, Seid, CsFAPI, MeO-4PAcZ (1.0 mM), C60/SnOx, 3MTPAI, PEAI, [\"FACl\"], True\\n01122025_FAPI_Fresh solution_C1, Seid, CsFAPI, MeO-4PAcZ (1.0 mM), C60/SnOx, 3MTPAI, PEAI, [\"FACl\"], True\\n011025_FAPI_SA_SS_Plates_C4, Pramod, CsFAPI, NiOx, C60/BCP, 3MTPAI, DPPP, [\"FACl\"], True\\n011025_FAPI_SA_SS_Plates_C3, Pramod, CsFAPI, NiOx, C60/BCP, 3MTPAI, DPPP, [\"FACl\"], True\\n011025_FAPI_SA_SS_SnOX_C2, Pramod, CsFAPI, NiOx, C60/BCP, 3MTPAI, DPPP, [\"FACl\"], True\\n011025_FAPI_SA_SS_SnOX_C1, Pramod, CsFAPI, NiOx, C60/BCP, 3MTPAI, DPPP, [\"FACl\"], True\\n030124_FAPI_SA_Cu_cell E, Seid, CsFAPI, MeO-4PAcZ (1.0 mM), C60/BCP, 67% 2mM 3MTPAI + 33% 1mM PEAI, PEAI, [\"FACl\"], True\\n122024_FAPI_SA_SnO2_Panacol-Hybrid_C6, Seid, CsFAPI, MeO-4PAcZ (1.0 mM), C60/SnOx, 3MTPAI, PEAI, [\"FACl\"], True\\n122024_FAPI_SA_SnO2_Panacol-Hybrid_C5, Seid, CsFAPI, MeO-4PAcZ (1.0 mM), C60/SnOx, 3MTPAI, PEAI, [\"FACl\"], True\\n122024_FAPI_SA_SnO2_Panacol-Acrylate_C4, Seid, CsFAPI, MeO-4PAcZ (1.0 mM), C60/SnOx, 3MTPAI, PEAI, [\"FACl\"], True\\n122024_FAPI_SA_SnO2_Panacol-Acrylate_C3, Seid, CsFAPI, MeO-4PAcZ (1.0 mM), C60/SnOx, 3MTPAI, PEAI, [\"FACl\"], True\\n122024_FAPI_SA_SnO2_Panacol-Epoxy_C2, Seid, CsFAPI, MeO-4PAcZ (1.0 mM), C60/SnOx, 3MTPAI, PEAI, [\"FACl\"], True\\n122024_FAPI_SA_SnO2_Panacol-Epoxy_C1, Seid, CsFAPI, MeO-4PAcZ (1.0 mM), C60/SnOx, 3MTPAI, PEAI, [\"FACl\"], True\\n122024_FAPI_SA_SnO2_C4, Seid, CsFAPI, MeO-4PAcZ (1.0 mM), C60/SnOx, 3MTPAI, PEAI, [\"FACl\"], True\\n122024_FAPI_SA_SnO2_C3, Seid, CsFAPI, MeO-4PAcZ (1.0 mM), C60/SnOx, 3MTPAI, PEAI, [\"FACl\"], True\\n122024_FAPI_SA_SnO2_C2, Seid, CsFAPI, MeO-4PAcZ (1.0 mM), C60/SnOx, 3MTPAI, PEAI, [\"FACl\"], True\\n122024_FAPI_SA_SnO2_C1, Seid, CsFAPI, MeO-4PAcZ (1.0 mM), C60/SnOx, 3MTPAI, PEAI, [\"FACl\"], True\\n122024_FAPI_SA_BCP_C4, Seid, CsFAPI, MeO-4PAcZ (1.0 mM), C60/BCP, 3MTPAI, PEAI, [\"FACl\"], True\\n122024_FAPI_SA_BCP_C3, Seid, CsFAPI, MeO-4PAcZ (1.0 mM), C60/BCP, 3MTPAI, PEAI, [\"FACl\"], True\\n122024_FAPI_SA_BCP_C2, Seid, CsFAPI, MeO-4PAcZ (1.0 mM), C60/BCP, 3MTPAI, PEAI, [\"FACl\"], True\\n122024_FAPI_SA_BCP_C1, Seid, CsFAPI, MeO-4PAcZ (1.0 mM), C60/BCP, 3MTPAI, PEAI, [\"FACl\"], True\\n120524_FAPI_SA_ITO_NPs_Cu(20nm)_C3, Pramod, CsFAPI, NiOx, C60/BCP, 3MTPAI, DPPP, [\"FACl\"], True\\n120524_FAPI_SA_SS_NPs_Cu(20nm)_C2, Pramod, CsFAPI, NiOx, C60/BCP, 3MTPAI, DPPP, [\"FACl\"], True\\n120524_FAPI_SA_SS_NPs_Cu(20nm)_C1, Pramod, CsFAPI, NiOx, C60/BCP, 3MTPAI, DPPP, [\"FACl\"], True\\n261124_FAPI_SA_ITO_C3, Seid, CsFAPI, MeO-4PAcZ (1.0 mM), C60/SnOx, 3MTPAI, PEAI, [\"FACl\"], True\\n261124_FAPI_SA_Cu10nm_ITO_C1, Seid, CsFAPI, MeO-4PAcZ (1.0 mM), C60/SnOx, 3MTPAI, PEAI, [\"FACl\"], True\\n112524_FAPI_SA_ITO_NPs_4D_C60_BCP_Cu(20nm)_C2, Pramod, CsFAPI, NiOx, C60/BCP, 3MTPAI, DPPP, [\"FACl\"], True\\n112524_FAPI_SA_ITO_NPs_4D_C60_BCP_Cu(20nm)_C1, Pramod, CsFAPI, NiOx, C60/BCP, 3MTPAI, DPPP, [\"FACl\"], True\\n112224_FAPI_SA_SS_ITO_Cu(20nm)_C3, Pramod, CsFAPI, NiOx, C60/BCP, 3MTPAI, DPPP, [\"FACl\"], True\\n', stderr='')"
      ]
     },
     "execution_count": 222,
     "metadata": {},
     "output_type": "execute_result"
    }
   ],
   "source": [
    "result"
   ]
  },
  {
   "cell_type": "markdown",
   "id": "b514c278",
   "metadata": {},
   "source": [
    "##### 3(a). Scan parameters form."
   ]
  },
  {
   "cell_type": "code",
   "execution_count": 223,
   "id": "f20bc399",
   "metadata": {
    "scrolled": false
   },
   "outputs": [
    {
     "name": "stdout",
     "output_type": "stream",
     "text": [
      "['04112025_FAPI_SA_SS_IZO_Cu(20nm)_C2', '04112025_FAPI_SA_SS_IZO_Cu(20nm)_C1', '040325_FAPI_SA_20%_Nb_doped_SnOx_Cu_C4', '040325_FAPI_SA_20%_Nb_doped_SnOx_Cu_C3', '040325_FAPI_SA_SnOx_Cu_C2', '040325_FAPI_SA_SnOx_Cu_C1', '040325_PC62R04_AB302_Dev9', '040325_PC62R04_AB302_Dev3', '040325_PC62R04_AB313_Dev8', '040325_PC62R04_AB313_Dev7', '040325_PC62R04_AB341_Dev4', '040325_PC62R04_AB341_Dev6', '040325_PC62R04_PNY1890714_Dev2', '04032025_PanacolY1890714_DEV1', '040225_FTO_Spider_encapsulation_RFP_dev1', '033125_FTO_Spider_encapsulation_RFP_dev2', '033125_FTO_Spider_encapsulation_RFP_dev1', '03272025_FAPI_SA_Sofab_C2', '03272025_FAPI_SA_Sofab_C1', 'dev1', '031725_FAPI_SA_Control_20nm_Cu_C9', '031725_FAPI_SA_SS_Plates_20nm_Cu_C8', '031725_FAPI_SA_SS_Plates_20nm_Cu_C7', '031725_FAPI_SA_SS_Plates_20nm_Cu_C6', '031725_FAPI_SA_SS_Plates_20nm_Cu_C5', '031725_FAPI_SA_SS_Plates_20nm_Cu_C4', '031725_FAPI_SA_SS_Plates_20nm_Cu_C3', '031725_FAPI_SA_SS_Plates_20nm_Cu_C2', '031725_FAPI_SA_SS_Plates_20nm_Cu_C1', '02112025_FAPI_SA_NiOx_MeO-4PACz + DPPP_C2', '02112025_FAPI_SA_NiOx_MeO-4PACz + DPPP_C1', '022525_FAPI_SA_FIRSTBATCH_DEV2', '022525_FAPI_SA_FIRSTBATCH_DEV1', '022125_FAPI_SA_First_batch_C1', '022125_FAPI_SA_First batch_C2', '01272025_FAPI_SA_Stability comparison_MeO-4PACz_C4', '01272025_FAPI_SA_Stability comparison_MeO-4PACz_C3', '01272025_FAPI_SA_Stability comparison_MeO-4PACz_C2', '01272025_FAPI_SA_Stability comparison_MeO-4PACz_C1', '01272025_FAPI_SA_Stability comparison_NiOx_C4', '01272025_FAPI_SA_Stability comparison_NiOx_C3', '01272025_FAPI_SA_Stability comparison_NiOx_C2', '01272025_FAPI_SA_Stability comparison_NiOx_C1', '012225_FAPI_SA_Wide_Coater_Cu_C2', '012225_FAPI_SA_Wide_Coater_Cu_C1', '01122025_FAPI_1h aged solution 2 _C8', '01122025_FAPI_1h aged solution 2 _C7', '01122025_FAPI_1h aged solution _C6', '01122025_FAPI_1h aged solution _C5', '01122025_FAPI_Fresh solution 2_C4', '01122025_FAPI_Fresh solution 2_C3', '01122025_FAPI_Fresh solution_C2', '01122025_FAPI_Fresh solution_C1', '011025_FAPI_SA_SS_Plates_C4', '011025_FAPI_SA_SS_Plates_C3', '011025_FAPI_SA_SS_SnOX_C2', '011025_FAPI_SA_SS_SnOX_C1', '030124_FAPI_SA_Cu_cell E', '122024_FAPI_SA_SnO2_Panacol-Hybrid_C6', '122024_FAPI_SA_SnO2_Panacol-Hybrid_C5', '122024_FAPI_SA_SnO2_Panacol-Acrylate_C4', '122024_FAPI_SA_SnO2_Panacol-Acrylate_C3', '122024_FAPI_SA_SnO2_Panacol-Epoxy_C2', '122024_FAPI_SA_SnO2_Panacol-Epoxy_C1', '122024_FAPI_SA_SnO2_C4', '122024_FAPI_SA_SnO2_C3', '122024_FAPI_SA_SnO2_C2', '122024_FAPI_SA_SnO2_C1', '122024_FAPI_SA_BCP_C4', '122024_FAPI_SA_BCP_C3', '122024_FAPI_SA_BCP_C2', '122024_FAPI_SA_BCP_C1', '120524_FAPI_SA_ITO_NPs_Cu(20nm)_C3', '120524_FAPI_SA_SS_NPs_Cu(20nm)_C2', '120524_FAPI_SA_SS_NPs_Cu(20nm)_C1', '261124_FAPI_SA_ITO_C3', '261124_FAPI_SA_Cu10nm_ITO_C1', '112524_FAPI_SA_ITO_NPs_4D_C60_BCP_Cu(20nm)_C2', '112524_FAPI_SA_ITO_NPs_4D_C60_BCP_Cu(20nm)_C1', '112224_FAPI_SA_SS_ITO_Cu(20nm)_C3']\n"
     ]
    },
    {
     "data": {
      "application/vnd.jupyter.widget-view+json": {
       "model_id": "cbce1886a1e44a14aacd61244ddd912f",
       "version_major": 2,
       "version_minor": 0
      },
      "text/plain": [
       "Output(layout=Layout(border='1px solid black', height='400px'))"
      ]
     },
     "metadata": {},
     "output_type": "display_data"
    },
    {
     "data": {
      "application/vnd.jupyter.widget-view+json": {
       "model_id": "163ad5a04b9e4b388ad02cf7887f8f3b",
       "version_major": 2,
       "version_minor": 0
      },
      "text/plain": [
       "VBox(children=(VBox(children=(Label(value='Operator'), RadioButtons(options=('Pramod',), value='Pramod'))), VB…"
      ]
     },
     "metadata": {},
     "output_type": "display_data"
    },
    {
     "data": {
      "application/vnd.jupyter.widget-view+json": {
       "model_id": "8ae99b23774a41789eba7b430ed0059b",
       "version_major": 2,
       "version_minor": 0
      },
      "text/plain": [
       "Button(button_style='success', description='Submit', style=ButtonStyle())"
      ]
     },
     "metadata": {},
     "output_type": "display_data"
    },
    {
     "name": "stdout",
     "output_type": "stream",
     "text": [
      "Form responses: \"['Pramod', '040325_FAPI_SA_SnOx_Cu_C1', [True, True, False], 'Upstairs (W426)', '1', 'No', 'No', '0.0', '0.805']\"\n",
      "Form responses: \"['Pramod', '040325_FAPI_SA_SnOx_Cu_C1', [True, True, False], 'Upstairs (W426)', '1', 'No', 'No', '0.0', '0.805']\"\n",
      "Form responses: \"['Pramod', '040325_FAPI_SA_SnOx_Cu_C1', [True, True, False], 'Upstairs (W426)', '2', 'No', 'No', '0.0', '0.805']\"\n",
      "Form responses: \"['Pramod', '040325_FAPI_SA_SnOx_Cu_C1', [True, True, False], 'Upstairs (W426)', '2', 'No', 'No', '0.0', '0.805']\"\n",
      "Form responses: \"['Pramod', '040325_FAPI_SA_SnOx_Cu_C1', [True, True, False], 'Upstairs (W426)', '3', 'No', 'No', '0.0', '0.805']\"\n",
      "Form responses: \"['Pramod', '040325_FAPI_SA_SnOx_Cu_C1', [True, True, False], 'Upstairs (W426)', '5', 'No', 'No', '0.0', '0.805']\"\n",
      "Form responses: \"['Pramod', '040325_FAPI_SA_SnOx_Cu_C1', [True, True, False], 'Upstairs (W426)', '6', 'No', 'No', '0.0', '0.805']\"\n",
      "Form responses: \"['Pramod', '040325_FAPI_SA_20%_Nb_doped_SnOx_Cu_C3', [True, True, False], 'Upstairs (W426)', '1', 'No', 'No', '0.0', '0.805']\"\n",
      "Form responses: \"['Pramod', '040325_FAPI_SA_20%_Nb_doped_SnOx_Cu_C3', [True, True, False], 'Upstairs (W426)', '1', 'No', 'No', '0.0', '0.805']\"\n",
      "Form responses: \"['Pramod', '040325_FAPI_SA_20%_Nb_doped_SnOx_Cu_C3', [True, True, False], 'Upstairs (W426)', '2', 'No', 'No', '0.0', '0.805']\"\n",
      "Form responses: \"['Pramod', '040325_FAPI_SA_20%_Nb_doped_SnOx_Cu_C3', [True, True, False], 'Upstairs (W426)', '3', 'No', 'No', '0.0', '0.805']\"\n",
      "Form responses: \"['Pramod', '040325_FAPI_SA_20%_Nb_doped_SnOx_Cu_C3', [True, True, False], 'Upstairs (W426)', '4', 'No', 'No', '0.0', '0.805']\"\n",
      "Form responses: \"['Pramod', '040325_FAPI_SA_20%_Nb_doped_SnOx_Cu_C3', [True, True, False], 'Upstairs (W426)', '5', 'No', 'No', '0.0', '0.805']\"\n",
      "Form responses: \"['Pramod', '040325_FAPI_SA_20%_Nb_doped_SnOx_Cu_C3', [True, True, False], 'Upstairs (W426)', '6', 'No', 'No', '0.0', '0.805']\"\n",
      "Form responses: \"['Pramod', '040325_FAPI_SA_SnOx_Cu_C2', [True, True, False], 'Upstairs (W426)', '3', 'No', 'No', '0.0', '0.805']\"\n",
      "Form responses: \"['Pramod', '040325_FAPI_SA_SnOx_Cu_C2', [True, True, False], 'Upstairs (W426)', '3', 'No', 'No', '0.0', '0.805']\"\n",
      "Form responses: \"['Pramod', '040325_FAPI_SA_SnOx_Cu_C2', [True, True, False], 'Upstairs (W426)', '5', 'No', 'No', '0.0', '0.805']\"\n",
      "Form responses: \"['Pramod', '040325_FAPI_SA_20%_Nb_doped_SnOx_Cu_C4', [True, True, False], 'Upstairs (W426)', '1', 'No', 'No', '0.0', '0.805']\"\n",
      "Form responses: \"['Pramod', '040325_FAPI_SA_20%_Nb_doped_SnOx_Cu_C4', [True, True, False], 'Upstairs (W426)', '2', 'No', 'No', '0.0', '0.805']\"\n",
      "Form responses: \"['Pramod', '040325_FAPI_SA_20%_Nb_doped_SnOx_Cu_C4', [True, True, False], 'Upstairs (W426)', '5', 'No', 'No', '0.0', '0.805']\"\n"
     ]
    }
   ],
   "source": [
    "### 3.a.1 ###\n",
    "# Scan parameter form. Change the operator name in this code block.\n",
    "#\n",
    "os.chdir(jupyter_notebook_path)\n",
    "# The questions json file can be anywhere, but it will usually be in the directory with this Notebook.\n",
    "questions_file_main= os.path.join(jupyter_notebook_path, \"main_questions.json\")\n",
    "# We will use the local directory path as the default value for the 'operator' question on the form.\n",
    "dir_path_local = os.path.normpath(os.path.join(jupyter_notebook_path, \"../Pramod\"))  #<------------------- Add your name here!\n",
    "form = parameters_form(persistent=True, dir_path_local=dir_path_local, \n",
    "                               questions_file_main=questions_file_main, drop_down_values=[sample_ids])\n",
    "form.dropdown_values = sample_ids\n",
    "print(form.dropdown_values)\n",
    "form.display_question_canvas()"
   ]
  },
  {
   "cell_type": "code",
   "execution_count": 360,
   "id": "07e109c6-ae1c-4a79-b204-a271d6075ffb",
   "metadata": {
    "scrolled": true
   },
   "outputs": [
    {
     "name": "stdout",
     "output_type": "stream",
     "text": [
      "['Pramod', '040325_FAPI_SA_20%_Nb_doped_SnOx_Cu_C4', [True, True, False], 'Upstairs (W426)', '5', 'No', 'No', '0.0', '0.805']\n"
     ]
    }
   ],
   "source": [
    "### 3.a.2 ###\n",
    "# Check to make sure the form output is what you want. \n",
    "print(form.responses)"
   ]
  },
  {
   "cell_type": "code",
   "execution_count": 361,
   "id": "6fc69278",
   "metadata": {
    "scrolled": true
   },
   "outputs": [
    {
     "name": "stdout",
     "output_type": "stream",
     "text": [
      "{'Operator': 'Pramod', 'Sample name? (must be a sample in the database)': '040325_FAPI_SA_20%_Nb_doped_SnOx_Cu_C4', 'Scan types': [True, True, False], 'Where were the measurements done?': 'Upstairs (W426)', 'Cell number?': '5', 'Is this a module measurement?': 'No', 'Is the sample masked?': 'No', 'Mask area (cm^2)?': '0.0', 'Lamp intensity (suns)': '0.805'}\n",
      "\n",
      " PowerShell: Found the Sample_ID: '040325_FAPI_SA_20%_Nb_doped_SnOx_Cu_C4', 'Sample_data_ID': fbffa73b-b410-f011-998a-000d3a5a111e, 'Operator_name': Pramod, 'Created_on': 04/03/2025 17:51:13, 'Cell_active_area': 0.15 \n",
      "\n",
      "cellarea = 0.15 cm^2\n"
     ]
    }
   ],
   "source": [
    "### 3.a.3  ###\n",
    "# Convert the form responses into a dictionary for easier indexing.\n",
    "form_questions = [question['question'] for question in form.questions]\n",
    "form_responses_dictionary = dict(zip(form_questions, form.responses))\n",
    "print(form_responses_dictionary)\n",
    "\n",
    "# Use the check_existence function of class DataverseTable to retrieve the cell area.\n",
    "#table = SampleDataverseTable(\"cr69a_sampledatav2s\")\n",
    "samplename = form_responses_dictionary['Sample name? (must be a sample in the database)']\n",
    "allow_entry, Sample_primary_ID, check_existence_result = sample_table.check_existence(samplename, require_confirmation=False)\n",
    "#print(check_existence_result)\n",
    "# The string manipulaton code below could fail if the list of headings to retrieve is changed in the check_existence() function. \n",
    "result_line  = check_existence_result.stdout.strip() \n",
    "string = re.split(r',', result_line)[-1]                # Assume that 'Cell_active_area' is after the last comma.\n",
    "cell_area =  float(re.split(r':',string)[-1])           # Heading and value are separated by a colon.\n",
    "print(f'cellarea = {cell_area} cm^2')                   # If this gives a crazy result, check the PowerShell output below."
   ]
  },
  {
   "cell_type": "markdown",
   "id": "cc82c89b",
   "metadata": {},
   "source": [
    "##### 3(b). Manually entered scan parameters."
   ]
  },
  {
   "cell_type": "code",
   "execution_count": 362,
   "id": "4d9d7c3c",
   "metadata": {},
   "outputs": [
    {
     "name": "stdout",
     "output_type": "stream",
     "text": [
      "mpp tracking mode is off.\n"
     ]
    }
   ],
   "source": [
    "### 3.b.1 ###\n",
    "#####  Set additional parameters here. Excecute this code block to set the parameters. #####\n",
    "#####  Then execute the cells below to run the scan.                                   #####\n",
    "#\n",
    "# Sample and cell parameters.\n",
    "samplename = form_responses_dictionary['Sample name? (must be a sample in the database)']\n",
    "cellnumber = form_responses_dictionary[ 'Cell number?']\n",
    "if form_responses_dictionary['Is the sample masked?'] ==  'Yes':\n",
    "    cellarea = float(form_responses_dictionary['Mask area (cm^2)?'])  # Used the masked area as the cell area.\n",
    "else:\n",
    "    cellarea = cell_area # cm^2                                # This value is retrieved from the sample database.\n",
    "\n",
    "# Voltage sweep parameters.\n",
    "startv = -0.25\n",
    "stopv = 1.25\n",
    "stepv = 0.02\n",
    "sweep_rate = \"fast\"                                            # slow=about 0.9 steps/s, medium=3.5 steps/s,fast=14 steps/s (measured at 20 mV/step).\n",
    "\n",
    "b0 = form_responses_dictionary['Scan types'][0]                # Options are: \"forward\", \"reverse\", and \"both\".\n",
    "b1 = form_responses_dictionary['Scan types'][1]                # Stabilized scans will be implemented seperately.\n",
    "if b0 and b1:                                                  #\n",
    "    direction = \"both\"                                         # \n",
    "elif b0:                                                       #\n",
    "    direction = \"forward\"                                      #\n",
    "else:                                                          #\n",
    "    direction = \"reverse\"                                      # Reverse is the fall-through if nothing is selected.\n",
    "\n",
    "four_wire = False                                              # True/False  Set this option to 'True' for 4-wire mode.\n",
    "\n",
    "# Single scan option.  \n",
    "do_single_scan = True                                          #  Set to 'False' for mpp and timeseries modes. 'True' overrides both modes.\n",
    "\n",
    "# timeseries loop options.\n",
    "do_timeseries = False                                          # If \"True\" the parameters are saved in timeseries_parameters. If \"False\" they are saved to parameters.\n",
    "timeseries_interval = int(60*60)                                # interval in seconds (must be an integer).\n",
    "timeseries_duration = 500.0                                    # duration in hours.\n",
    "\n",
    "# Maximum power point tracking.\n",
    "mpp_tracking_mode_enable = False                               # Set to True to set the voltage to mpp_V after each sweep.\n",
    "mpp_default  = \"0.85\"                                          # Must be a string.  Intial guess for the mpp.\n",
    "\n",
    "# Lamp control.\n",
    "labjack = True                                                # Set to True to control the lamp with the LabJack U3 device.\n",
    "do_dark_sweeps = True                                         # Set to True to enable dark sweeps. If False they will be skipped.\n",
    "burnintime = 1                                                 # Burn in time in seconds with the lamp on before the sweep starts. \n",
    "\n",
    "# Saving options. \n",
    "savedata = 'yes'                                               # ('yes'/'no') Saves the data and the plot to a file.\n",
    "saveparameters = 'yes'                                         # ('yes'/'no') Adds the parameters to the parameters file.\n",
    "verbose = 1                                                    # (1/0) Prints a lot of extra stuff and shows the plot.\n",
    "\n",
    "# Lamp intensity in suns.                                      # This should correspond to the lamp setting on the display of the LSH-7320.\n",
    "I_ph = float(form_responses_dictionary['Lamp intensity (suns)'])     # Due to a quirk of the Newport LSH-7320 calibration, we normally use I_ph = 0.805.\n",
    "\n",
    "# Check parameters to see if mpp tracking mode is on.\n",
    "if(mpp_tracking_mode_enable and do_timeseries and not do_single_scan):\n",
    "    mpp_tracking_mode = True\n",
    "    print(\"mpp tracking mode is on!\")\n",
    "else:\n",
    "    mpp_tracking_mode = False\n",
    "    print(\"mpp tracking mode is off.\")\n",
    "\n",
    "# Sample temperature and humidity.\n",
    "temp_c = 23  # deg-C.  This is the nominal temperature (we don't measure it.)\n",
    "hum_pct = 0  # Relative humidity.  It is currently not measured."
   ]
  },
  {
   "cell_type": "code",
   "execution_count": 363,
   "id": "9d5e6948",
   "metadata": {},
   "outputs": [
    {
     "data": {
      "text/plain": [
       "'C:\\\\Users\\\\LabUser\\\\OneDrive - Verde Technologies\\\\Documents\\\\data2\\\\Pramod_041425'"
      ]
     },
     "execution_count": 363,
     "metadata": {},
     "output_type": "execute_result"
    }
   ],
   "source": [
    "### 3.b.2 ###\n",
    "dir_path_local + \"_\" + date.today().strftime(\"%m%d%y\")"
   ]
  },
  {
   "cell_type": "code",
   "execution_count": 364,
   "id": "d692ce81",
   "metadata": {},
   "outputs": [
    {
     "name": "stdout",
     "output_type": "stream",
     "text": [
      "The directory C:\\Users\\LabUser\\OneDrive - Verde Technologies\\Documents\\data2\\Pramod_041425  already exists.\n",
      "base_t for timeseries scans =1744658895.439191\n"
     ]
    }
   ],
   "source": [
    "### 3.b.3  ###\n",
    "today = date.today()\n",
    "#today = date(2023, 9, 27)\n",
    "path = dir_path_local + \"_\" + today.strftime(\"%m%d%y\")\n",
    "\n",
    "# Check whether the specified path exists or not\n",
    "isExist = os.path.exists(path)\n",
    "\n",
    "if not isExist:\n",
    "  # Create a new directory if it doesn't already exist \n",
    "    os.makedirs(path)\n",
    "    base_t = time.time()  # save the base time when the directory is created\n",
    "    f = open(path + \"/basetime.dat\", \"w+\")\n",
    "    print(\"{:.9f}\\n\".format(base_t), file=f)\n",
    "    f.close()\n",
    "    print(\"The directory\", path, \" is created!\")\n",
    "    print(\"base_t for timeseries scans =\" + str(base_t))\n",
    "else:\n",
    "    f = open(path + \"/basetime.dat\", \"r\")\n",
    "    base_t = float(f.read(17))\n",
    "    f.close()\n",
    "    print(\"The directory\", path, \" already exists.\")\n",
    "    print(\"base_t for timeseries scans =\" + str(base_t))"
   ]
  },
  {
   "cell_type": "markdown",
   "id": "4c206498",
   "metadata": {},
   "source": [
    "##### 4. Keithley discovery and set up."
   ]
  },
  {
   "cell_type": "code",
   "execution_count": 365,
   "id": "26cbc9ac",
   "metadata": {
    "scrolled": true
   },
   "outputs": [
    {
     "name": "stdout",
     "output_type": "stream",
     "text": [
      "K2401 setup:\n",
      "\n",
      "Default Directory:  C:\\Users\\LabUser\\OneDrive - Verde Technologies\\Documents\\data2\\K2401SSDB\n",
      "\n",
      "VISA library version:\n",
      "   Resource Manager of Visa Library at C:\\Windows\\system32\\visa64.dll\n",
      "\n",
      "Python version:\n",
      "   3.9.19 (main, May  6 2024, 20:12:36) [MSC v.1916 64 bit (AMD64)]\n",
      "\n",
      "List of instruments discovered:\n",
      "\n",
      "Instrument  1 :  GPIB0::25::INSTR\n",
      "  Interface type:  InterfaceType.gpib\n",
      "  Interface board number:  0\n",
      "  Resource class:  INSTR\n",
      "  Resource name:  GPIB0::25::INSTR\n",
      "  Resource alias:  None\n",
      "\n",
      "Instrument  2 :  GPIB0::25::0::INSTR\n",
      "  Interface type:  InterfaceType.gpib\n",
      "  Interface board number:  0\n",
      "  Resource class:  INSTR\n",
      "  Resource name:  GPIB0::25::0::INSTR\n",
      "  Resource alias:  None\n",
      "\n",
      " KEITHLEY INSTRUMENTS INC.,MODEL 2401,4118964,A01 Aug 25 2011 12:57:43/A02  /V/M\n",
      "\n"
     ]
    }
   ],
   "source": [
    "### 4.1 ###\n",
    "dll_dir=r'C:\\Windows\\system32\\visa64.dll'            # This is the default in case dll_dir is not specified.\n",
    "#dll_dir=r'/usr/lib/x86_64-linux-gnu/libivivisa.so'  # For Ubuntu Linux\n",
    "#dll_dir=r'C:\\WINDOWS\\system32\\visa64.dll'           # For Windows\n",
    "\n",
    "GPIB_channel = \"GPIB0::25\"                           # Check your device to see what the channel setting is.  Try 'GPIB0', 'GPIB1', etc. as needed.\n",
    "\n",
    "Keithley = K2401SS_4_1.K2401(dll_dir=dll_dir, \n",
    "                             \n",
    "           GPIB_channel=GPIB_channel)                # V4.1 working draft on 12/25/23 RLH\n",
    "Keithley.mpp_V = mpp_default                         # Select the mpp mode. "
   ]
  },
  {
   "cell_type": "markdown",
   "id": "187df870",
   "metadata": {},
   "source": [
    "##### 5. Main script."
   ]
  },
  {
   "cell_type": "code",
   "execution_count": 366,
   "id": "190e52df",
   "metadata": {
    "scrolled": false
   },
   "outputs": [
    {
     "name": "stdout",
     "output_type": "stream",
     "text": [
      "LabJack U3 setup: \n",
      "{'FirmwareVersion': '1.46', 'BootloaderVersion': '0.27', 'HardwareVersion': '1.30', 'SerialNumber': 320096721, 'ProductID': 3, 'LocalID': 1, 'TimerCounterMask': 64, 'FIOAnalog': 15, 'FIODirection': 0, 'FIOState': 0, 'EIOAnalog': 0, 'EIODirection': 0, 'EIOState': 0, 'CIODirection': 0, 'CIOState': 0, 'DAC1Enable': 1, 'DAC0': 0, 'DAC1': 0, 'TimerClockConfig': 2, 'TimerClockDivisor': 256, 'CompatibilityOptions': 0, 'VersionInfo': 18, 'DeviceName': 'U3-HV'}\n",
      "Starting IV scans:\n",
      "Switching the lamp state from unknown to off.\n",
      "set_lamp_state turned the lamp off\n",
      "Lamp off\n",
      "Sweep rate: 308.1 mV/sec\n",
      "Switching the lamp state from off to on.\n",
      "Lamp on\n",
      "Sweep rate: 300.8 mV/sec\n",
      "Switching the lamp state from on to off.\n",
      "set_lamp_state turned the lamp off\n",
      "Lamp off\n",
      "Data collection is done!\n"
     ]
    },
    {
     "data": {
      "image/png": "[encoded data removed]",
      "text/plain": [
       "<Figure size 640x480 with 1 Axes>"
      ]
     },
     "metadata": {},
     "output_type": "display_data"
    },
    {
     "name": "stdout",
     "output_type": "stream",
     "text": [
      "LabJack U3 setup: \n",
      "{'FirmwareVersion': '1.46', 'BootloaderVersion': '0.27', 'HardwareVersion': '1.30', 'SerialNumber': 320096721, 'ProductID': 3, 'LocalID': 1, 'TimerCounterMask': 64, 'FIOAnalog': 15, 'FIODirection': 0, 'FIOState': 0, 'EIOAnalog': 0, 'EIODirection': 0, 'EIOState': 0, 'CIODirection': 0, 'CIOState': 0, 'DAC1Enable': 1, 'DAC0': 0, 'DAC1': 0, 'TimerClockConfig': 2, 'TimerClockDivisor': 256, 'CompatibilityOptions': 0, 'VersionInfo': 18, 'DeviceName': 'U3-HV'}\n",
      "Starting IV scans:\n",
      "set_lamp_state turned the lamp off\n",
      "Lamp off\n",
      "Sweep rate: -311.9 mV/sec\n",
      "Switching the lamp state from off to on.\n",
      "Lamp on\n",
      "Sweep rate: -293.9 mV/sec\n",
      "Switching the lamp state from on to off.\n",
      "set_lamp_state turned the lamp off\n",
      "Lamp off\n",
      "Data collection is done!\n"
     ]
    },
    {
     "data": {
      "image/png": "[encoded data removed]",
      "text/plain": [
       "<Figure size 640x480 with 1 Axes>"
      ]
     },
     "metadata": {},
     "output_type": "display_data"
    },
    {
     "name": "stdout",
     "output_type": "stream",
     "text": [
      "Data saved to: C:\\Users\\LabUser\\OneDrive - Verde Technologies\\Documents\\data2\\Pramod_041425/040325_FAPI_SA_20%_Nb_doped_SnOx_Cu_C4_5F_160403.csv\n",
      "Plot saved to: C:\\Users\\LabUser\\OneDrive - Verde Technologies\\Documents\\data2\\Pramod_041425/040325_FAPI_SA_20%_Nb_doped_SnOx_Cu_C4_5F_160403.png\n",
      "Data saved to: C:\\Users\\LabUser\\OneDrive - Verde Technologies\\Documents\\data2\\Pramod_041425/040325_FAPI_SA_20%_Nb_doped_SnOx_Cu_C4_5R_160403.csv\n",
      "Plot saved to: C:\\Users\\LabUser\\OneDrive - Verde Technologies\\Documents\\data2\\Pramod_041425/040325_FAPI_SA_20%_Nb_doped_SnOx_Cu_C4_5R_160403.png\n",
      "I_ph = 0.805 suns\n",
      "V_oc = 1.017 V\n",
      "mpp = 0.330 V\n",
      "J_sc = 10.409 mA/cm^2\n",
      "R_sh =  89.5 Ω-cm^2\n",
      "R_ser = 8718.72 Ω-cm^2\n",
      "FF = 21.428%\n",
      "PCE =  2.27%\n",
      "Appended parameters to: C:\\Users\\LabUser\\OneDrive - Verde Technologies\\Documents\\data2\\Pramod_041425\\parameters_041425\n",
      "four_wire_mode = False\n",
      "Inserting data into table \"crf3d_jv_test_datas\".\n",
      "I_ph = 0.805 suns\n",
      "V_oc = 1.056 V\n",
      "mpp = 0.450 V\n",
      "J_sc = 11.034 mA/cm^2\n",
      "R_sh =  92.3 Ω-cm^2\n",
      "R_ser = 10201.28 Ω-cm^2\n",
      "FF = 22.591%\n",
      "PCE =  2.63%\n",
      "Appended parameters to: C:\\Users\\LabUser\\OneDrive - Verde Technologies\\Documents\\data2\\Pramod_041425\\parameters_041425\n",
      "four_wire_mode = False\n",
      "Inserting data into table \"crf3d_jv_test_datas\".\n",
      "\n",
      "Sweep 1 of 1 is complete!\n",
      "Elapsed time: 2156.7\n",
      "\n"
     ]
    }
   ],
   "source": [
    "### 5.1 ###\n",
    "########################## This is the main script. ###################################################\n",
    "########################## Double check your parameters before you run it! ############################\n",
    "########################## Also make sure the Keithley unit was discovered and it is responding.#######\n",
    "#######################################################################################################\n",
    "#\n",
    "# Single scan includes dark and light sweeps, and may also include both forward and reverse sweeps.\n",
    "# Single scan has priority over timeseries.\n",
    "if (do_single_scan == True):\n",
    "    numscans = 1\n",
    "elif (do_timeseries == True):\n",
    "    numscans = int(np.ceil(3600*timeseries_duration/timeseries_interval)) + 1\n",
    "    print(\"numscans = \", numscans)\n",
    "else:\n",
    "    numscans = 0 # If do_single_scan and do_timeseries are both False, this code block does nothing.\n",
    "#\n",
    "# Create an instance of the JVScanDataverseTable with environment-specific parameter data.\n",
    "jvscan_table = JVScanDataverseTable(\n",
    "    crm_url = crm_url,\n",
    "    table_name = JV_scan_table_logical_name, # Logical names are specific to a particular table.\n",
    "    col_logical_names =  col_logical_names,\n",
    "    image_column_name = image_column_name\n",
    ")\n",
    "#\n",
    "# The main loop starts here.\n",
    "#\n",
    "for myint in range(numscans):\n",
    "    # do the scan\n",
    "    if (direction == \"forward\" or direction == \"both\"):\n",
    "        fig_F, df_F = Keithley.dark_light_IVsweep(startv, stopv, stepv, rate=sweep_rate, \n",
    "                                          area=cellarea, plottitle=samplename+\"_\"+cellnumber+\"F\", \n",
    "                                                  verbose=verbose, labjack=labjack, burnintime=burnintime,\n",
    "                                                  do_dark=do_dark_sweeps, mpp_tracking_mode=mpp_tracking_mode,\n",
    "                                                  four_wire_mode=four_wire)\n",
    "    if(direction == \"reverse\" or direction == \"both\"):\n",
    "        fig_R, df_R = Keithley.dark_light_IVsweep(stopv, startv, -stepv, rate=sweep_rate, \n",
    "                                          area=cellarea, plottitle=samplename+\"_\"+cellnumber+\"R\", \n",
    "                                                  verbose=verbose, labjack=labjack, burnintime=burnintime,\n",
    "                                                  do_dark=do_dark_sweeps, mpp_tracking_mode=mpp_tracking_mode,\n",
    "                                                  four_wire_mode=four_wire)\n",
    "    # record the current time\n",
    "    timenow = datetime.now()\n",
    "    timenowstr = timenow.strftime(\"%H%M%S\")    \n",
    "    datetodaystr = today.strftime(\"%m%d%y\")\n",
    "    # Save the data\n",
    "    if (savedata != 'no'):\n",
    "        if (direction == \"forward\" or direction == \"both\"):\n",
    "            scan_data_path_F, image_data_path_F = Keithley.save_data_and_plot(df_F, fig_F, path = path, samplename = samplename, \n",
    "                                cellnumber = cellnumber+\"F\", timenowstr = timenowstr)\n",
    "        if(direction == \"reverse\" or direction == \"both\"):\n",
    "            scan_data_path_R, image_data_path_R = Keithley.save_data_and_plot(df_R, fig_R, path = path, samplename = samplename, \n",
    "                                cellnumber = cellnumber+\"R\", timenowstr = timenowstr)\n",
    "    else:\n",
    "        print(\"Data NOT saved.\")\n",
    "        \n",
    "    ####  Calculate and save the PV parameters.\n",
    "    # Calculate V_OC, J_SC, R_Sh, R_Ser, FF, PCE and save them to a common \"parameters\" file. Also insert intothe Dataverse table.\n",
    "    if (direction == \"forward\" or direction == \"both\"):\n",
    "        par_df_new_F = jvscan_table.calc_and_save_parameters_db(df_F, form_responses_dictionary, Keithley, image_data_path_F, scan_data_path_F, \n",
    "                                path = path, temp_c=temp_c, hum_pct=hum_pct, four_wire=four_wire,\n",
    "                                samplename = samplename, cellnumber = cellnumber, scantype = \"F\", \n",
    "                                timenowstr = timenowstr, datetodaystr = datetodaystr,\n",
    "                                saveparameters = saveparameters, verbose=verbose,                         \n",
    "                                timeseries = do_timeseries, base_t = base_t, I_ph = I_ph,\n",
    "                                mpp_tracking_mode=mpp_tracking_mode) \n",
    "    if(direction == \"reverse\" or direction == \"both\"):\n",
    "        par_df_new_R = jvscan_table.calc_and_save_parameters_db(df_R, form_responses_dictionary, Keithley, image_data_path_R, scan_data_path_R, \n",
    "                                path = path, temp_c=temp_c, hum_pct=hum_pct, four_wire=four_wire,\n",
    "                                samplename = samplename, cellnumber = cellnumber, scantype = \"R\", \n",
    "                                timenowstr = timenowstr, datetodaystr = datetodaystr,\n",
    "                                saveparameters = saveparameters, verbose=verbose,                         \n",
    "                                timeseries = do_timeseries, base_t = base_t, I_ph = I_ph,\n",
    "                                mpp_tracking_mode=mpp_tracking_mode)  \n",
    " \n",
    "    \n",
    "    # Delay before the next sweep.\n",
    "    # tqdm displays a progress bar during the sleep time.\n",
    "    print(f\"\\nSweep {(myint+1)} of {numscans} is complete!\")\n",
    "    print(\"Elapsed time: {:.1f}\\n\".format(time.time()-base_t))\n",
    "    if (myint < (numscans-1)):\n",
    "        for i in tqdm(range(timeseries_interval)):\n",
    "            time.sleep(0.99)"
   ]
  },
  {
   "cell_type": "code",
   "execution_count": null,
   "id": "cb81e096",
   "metadata": {},
   "outputs": [],
   "source": []
  },
  {
   "cell_type": "code",
   "execution_count": null,
   "id": "44254607",
   "metadata": {},
   "outputs": [],
   "source": []
  },
  {
   "cell_type": "code",
   "execution_count": null,
   "id": "7e58a525",
   "metadata": {},
   "outputs": [],
   "source": []
  },
  {
   "cell_type": "code",
   "execution_count": null,
   "id": "05386189",
   "metadata": {},
   "outputs": [],
   "source": []
  },
  {
   "cell_type": "code",
   "execution_count": null,
   "id": "e4af4eb0",
   "metadata": {},
   "outputs": [],
   "source": []
  },
  {
   "cell_type": "code",
   "execution_count": null,
   "id": "be7d820e",
   "metadata": {},
   "outputs": [],
   "source": []
  },
  {
   "cell_type": "code",
   "execution_count": null,
   "id": "e518a5a9",
   "metadata": {},
   "outputs": [],
   "source": []
  },
  {
   "cell_type": "code",
   "execution_count": null,
   "id": "da3343cd",
   "metadata": {},
   "outputs": [],
   "source": []
  },
  {
   "cell_type": "code",
   "execution_count": null,
   "id": "f0a612dd",
   "metadata": {},
   "outputs": [],
   "source": []
  },
  {
   "cell_type": "code",
   "execution_count": null,
   "id": "db843d27",
   "metadata": {},
   "outputs": [],
   "source": []
  },
  {
   "cell_type": "code",
   "execution_count": null,
   "id": "ec217a42",
   "metadata": {},
   "outputs": [],
   "source": []
  },
  {
   "cell_type": "code",
   "execution_count": null,
   "id": "1b2d2a95",
   "metadata": {},
   "outputs": [],
   "source": []
  },
  {
   "cell_type": "code",
   "execution_count": null,
   "id": "eb180112",
   "metadata": {},
   "outputs": [],
   "source": []
  },
  {
   "cell_type": "markdown",
   "id": "04d3197b-86bb-47a3-876f-75a8e106f3c7",
   "metadata": {
    "jp-MarkdownHeadingCollapsed": true
   },
   "source": [
    "#### Code under development"
   ]
  },
  {
   "cell_type": "code",
   "execution_count": null,
   "id": "3149b48d",
   "metadata": {},
   "outputs": [],
   "source": [
    "# to do: implementation of stabilized scan.  \n",
    "\n",
    "# # Estimate V_oc from the average of forward and reverse sweep values.\n",
    "# stab_V_oc_estimate = (par_df_new_R[\"V_oc(V)\"].loc[0] + par_df_new_F[\"V_oc(V)\"].loc[0])/2\n",
    "\n",
    "# # Estimate I_sc from several individual measurements.\n",
    "# startv = 0.0; stopv = 0.002; stepv = 0.0019\n",
    "# print(\"I_sc (A):\")\n",
    "# for myint in range(5):\n",
    "#     dfl = Keithley.IVsweep(startv, stopv, stepv, rate=\"fast\",final_V=str(startv), \n",
    "#                     mpp_tracking_mode=True, four_wire_mode=False)\n",
    "#     print(dfl[\"I(A)\"].iloc[0])\n",
    "#     time.sleep(1)\n",
    "# stab_I_sc = dfl[\"I(A)\"].iloc[0]\n",
    "\n"
   ]
  },
  {
   "cell_type": "code",
   "execution_count": null,
   "id": "07b8ab34",
   "metadata": {},
   "outputs": [],
   "source": []
  },
  {
   "cell_type": "markdown",
   "id": "cdffdc4c",
   "metadata": {},
   "source": [
    "#####  6. You can still view the results if you ran the scan with verbose=0. Use the code block below.\n",
    "\n",
    "Note: This will only display result for the last scan done."
   ]
  },
  {
   "cell_type": "code",
   "execution_count": null,
   "id": "694cf615",
   "metadata": {},
   "outputs": [],
   "source": [
    "# # Display the single scan results or for the last scan of a timeseries.\n",
    "# if (True):\n",
    "#     if(direction == \"reverse\"):\n",
    "#         print(\"\\n\", par_df_new_R)\n",
    "#         display(fig_R)\n",
    "#     elif (direction == \"both\"):\n",
    "#         print(\"\\n\", par_df_new_F)\n",
    "#         print(\"\\n\", par_df_new_R)\n",
    "#         display(fig_F)\n",
    "#         display(fig_R)\n",
    "#     else:\n",
    "#         print(\"\\n\", par_df_new_F)\n",
    "#         display(fig_F)"
   ]
  },
  {
   "cell_type": "code",
   "execution_count": null,
   "id": "9b82183a",
   "metadata": {},
   "outputs": [],
   "source": []
  },
  {
   "cell_type": "code",
   "execution_count": null,
   "id": "5dc3c272",
   "metadata": {},
   "outputs": [],
   "source": []
  },
  {
   "cell_type": "code",
   "execution_count": null,
   "id": "cc996d21",
   "metadata": {},
   "outputs": [],
   "source": []
  },
  {
   "cell_type": "code",
   "execution_count": null,
   "id": "235a612c",
   "metadata": {},
   "outputs": [],
   "source": []
  },
  {
   "cell_type": "code",
   "execution_count": null,
   "id": "b0825fcd",
   "metadata": {},
   "outputs": [],
   "source": []
  },
  {
   "cell_type": "code",
   "execution_count": null,
   "id": "1517df08",
   "metadata": {},
   "outputs": [],
   "source": []
  },
  {
   "cell_type": "code",
   "execution_count": null,
   "id": "51567598",
   "metadata": {},
   "outputs": [],
   "source": []
  }
 ],
 "metadata": {
  "kernelspec": {
   "display_name": "Python 3 (ipykernel)",
   "language": "python",
   "name": "python3"
  },
  "language_info": {
   "codemirror_mode": {
    "name": "ipython",
    "version": 3
   },
   "file_extension": ".py",
   "mimetype": "text/x-python",
   "name": "python",
   "nbconvert_exporter": "python",
   "pygments_lexer": "ipython3",
   "version": "3.9.19"
  }
 },
 "nbformat": 4,
 "nbformat_minor": 5
}
